{
 "cells": [
  {
   "cell_type": "markdown",
   "metadata": {},
   "source": [
    "# Saving files (regular and gif)"
   ]
  },
  {
   "cell_type": "markdown",
   "metadata": {},
   "source": [
    "This notebook shows how to use the `best_save` and `writeGif` function. "
   ]
  },
  {
   "cell_type": "code",
   "execution_count": null,
   "metadata": {},
   "outputs": [],
   "source": [
    "# pip install savingfigR"
   ]
  },
  {
   "cell_type": "code",
   "execution_count": 2,
   "metadata": {},
   "outputs": [
    {
     "ename": "ImportError",
     "evalue": "cannot import name 'best_save' from partially initialized module 'savingfigR' (most likely due to a circular import) (/Users/duncan/Documents/GitHub/savingfigR/savingfigR/__init__.py)",
     "output_type": "error",
     "traceback": [
      "\u001b[0;31m---------------------------------------------------------------------------\u001b[0m",
      "\u001b[0;31mImportError\u001b[0m                               Traceback (most recent call last)",
      "\u001b[0;32m/var/folders/rq/13pc0pfn2h72_3f1f2yxqxfm0000gp/T/ipykernel_1558/1145629670.py\u001b[0m in \u001b[0;36m<module>\u001b[0;34m\u001b[0m\n\u001b[1;32m      1\u001b[0m \u001b[0;32mimport\u001b[0m \u001b[0mnumpy\u001b[0m \u001b[0;32mas\u001b[0m \u001b[0mnp\u001b[0m\u001b[0;34m\u001b[0m\u001b[0;34m\u001b[0m\u001b[0m\n\u001b[1;32m      2\u001b[0m \u001b[0;32mimport\u001b[0m \u001b[0mmatplotlib\u001b[0m\u001b[0;34m.\u001b[0m\u001b[0mpyplot\u001b[0m \u001b[0;32mas\u001b[0m \u001b[0mplt\u001b[0m\u001b[0;34m\u001b[0m\u001b[0;34m\u001b[0m\u001b[0m\n\u001b[0;32m----> 3\u001b[0;31m \u001b[0;32mimport\u001b[0m \u001b[0msavingfigR\u001b[0m \u001b[0;32mas\u001b[0m \u001b[0msf\u001b[0m\u001b[0;34m\u001b[0m\u001b[0;34m\u001b[0m\u001b[0m\n\u001b[0m",
      "\u001b[0;32m~/Documents/GitHub/savingfigR/savingfigR/__init__.py\u001b[0m in \u001b[0;36m<module>\u001b[0;34m\u001b[0m\n\u001b[0;32m----> 1\u001b[0;31m \u001b[0;32mfrom\u001b[0m \u001b[0msavingfigR\u001b[0m \u001b[0;32mimport\u001b[0m \u001b[0mbest_save\u001b[0m\u001b[0;34m,\u001b[0m \u001b[0mwriteGif\u001b[0m\u001b[0;34m\u001b[0m\u001b[0;34m\u001b[0m\u001b[0m\n\u001b[0m",
      "\u001b[0;31mImportError\u001b[0m: cannot import name 'best_save' from partially initialized module 'savingfigR' (most likely due to a circular import) (/Users/duncan/Documents/GitHub/savingfigR/savingfigR/__init__.py)"
     ]
    }
   ],
   "source": [
    "import numpy as np \n",
    "import matplotlib.pyplot as plt\n",
    "import savingfigR as sf"
   ]
  },
  {
   "cell_type": "code",
   "execution_count": null,
   "metadata": {},
   "outputs": [],
   "source": [
    "# create some figure \n",
    "x = np.linspace(0, 2*np.pi, 100)\n",
    "\n",
    "fig1 = plt.figure()\n",
    "plt.plot(x, np.sin(x), lw=3)\n",
    "plt.show()\n",
    "\n",
    "fig2 = plt.figure()\n",
    "plt.plot(x, np.cos(x), lw=3)\n",
    "plt.show()"
   ]
  },
  {
   "cell_type": "markdown",
   "metadata": {},
   "source": [
    "## best_save function\n",
    "\n",
    "This function will save a figure (as .png). It will create folders for each new day the code is run and has the option for figures to be put in supplemental folder. "
   ]
  },
  {
   "cell_type": "code",
   "execution_count": null,
   "metadata": {},
   "outputs": [],
   "source": [
    "def best_save(fig_obj, fig_name, ext='.png', close=True, supplemental=False):\n",
    "    \n",
    "    '''\n",
    "    Save figures easily, compact, and to various places as .png (no friendly with other formats)\n",
    "\n",
    "    INPUTS:\n",
    "    fig_obj: figure object, object \n",
    "    fig_name: figure name, string \n",
    "    ext: figure file extension, string\n",
    "    close: close figure, boolean \n",
    "    supplemental: put in supplemental folder, boolean \n",
    "\n",
    "    OUTPUT:\n",
    "    Save figure in figures folder > date > main or supplemental\n",
    "    '''\n",
    "\n",
    "    # import needed library \n",
    "    import os \n",
    "    import datetime\n",
    "    import matplotlib\n",
    "\n",
    "    # current working directory \n",
    "    cwd = os.getcwd(); \n",
    "\n",
    "    # Does figures folder exist? \n",
    "    if os.path.exists(cwd+'/figures') == False: \n",
    "        # it doesn't exist\n",
    "        # create a new figures folder \n",
    "        os.mkdir(cwd+'/figures')\n",
    "\n",
    "    # Make figures folder the current working directory \n",
    "    os.chdir(cwd+'/figures')\n",
    "\n",
    "    # Does current date sub folder exist \n",
    "    today = datetime.datetime.now()\n",
    "    cur_day = today.strftime(\"%m_%d_%Y\")\n",
    "\n",
    "    # Does current date folder exist? \n",
    "    if os.path.exists(cwd+'/figures'+'/'+cur_day) == False:\n",
    "        # it doesn't exist \n",
    "        # create a new date folder \n",
    "        os.mkdir(cwd+'/figures'+'/'+cur_day)\n",
    "\n",
    "    # Make date subfolder the current working directory \n",
    "    os.chdir(cwd+'/figures'+'/'+cur_day)\n",
    "\n",
    "    # Save in supplemental folder ?\n",
    "    if supplemental:\n",
    "        if os.path.exists(cwd+'/figures'+'/'+cur_day+'/'+'Supplemental') == False:\n",
    "            os.mkdir(cwd+'/figures'+'/'+cur_day+'/'+'Supplemental')\n",
    "        os.chdir(cwd+'/figures'+'/'+cur_day+'/'+'Supplemental')\n",
    "\n",
    "    # Save \n",
    "    if '.png' in fig_name:\n",
    "        fig_obj.savefig(fig_name, bbox_inches='tight')\n",
    "    elif ext != '.png':\n",
    "        fig_obj.savefig(fig_name+ext, bbox_inches='tight')\n",
    "    else:\n",
    "        fig_obj.savefig(fig_name+'.png', bbox_inches='tight')\n",
    "\n",
    "    if close: # close \n",
    "        matplotlib.pyplot.close(fig_obj)\n",
    "\n",
    "    # Get back to original folder \n",
    "    os.chdir(cwd)"
   ]
  },
  {
   "cell_type": "code",
   "execution_count": null,
   "metadata": {},
   "outputs": [],
   "source": [
    "best_save(fig1, 'testFig1') # normal folder \n",
    "\n",
    "best_save(fig2, 'testFig2', supplemental=True) # put in supplemental folder  "
   ]
  },
  {
   "cell_type": "markdown",
   "metadata": {},
   "source": [
    "## writeGif function \n",
    "\n",
    "This function will create a gif from multiple figures. It essentially saves a bunch of figures and then puts them in a .gif file and deletes them. \n",
    "\n",
    "Of note, you may want to down sample when you do this for playback sake. Best to visually test and edit from there. "
   ]
  },
  {
   "cell_type": "code",
   "execution_count": null,
   "metadata": {},
   "outputs": [],
   "source": [
    "def writeGif(filenameG, filenames, supplemental=False):\n",
    "    '''\n",
    "    Save figure files as gif file and delete figures used to create gif \n",
    "\n",
    "    INPUTS:\n",
    "    filenameG: filename for .gif file \n",
    "    filenames: filenames of individual figures to be saved together as gif\n",
    "    supplemental: put in supplemental or not, boolean\n",
    "\n",
    "    OUTPUTS:\n",
    "    .gif file of files in filenmae \n",
    "    '''\n",
    "    import imageio \n",
    "    import os \n",
    "    import datetime\n",
    "    import matplotlib\n",
    "\n",
    "    # current working directory \n",
    "    cwd = os.getcwd(); \n",
    "\n",
    "    # Does figures folder exist? \n",
    "    if os.path.exists(cwd+'/figures') == False: \n",
    "        # it doesn't exist\n",
    "        # create a new figures folder \n",
    "        os.mkdir(cwd+'/figures')\n",
    "\n",
    "    # Make figures folder the current working directory \n",
    "    os.chdir(cwd+'/figures')\n",
    "\n",
    "    # Does current date sub folder exist \n",
    "    today = datetime.datetime.now()\n",
    "    cur_day = today.strftime(\"%m_%d_%Y\")\n",
    "\n",
    "    # Does current date folder exist? \n",
    "    if os.path.exists(cwd+'/figures'+'/'+cur_day) == False:\n",
    "        # it doesn't exist \n",
    "        # create a new date folder \n",
    "        os.mkdir(cwd+'/figures'+'/'+cur_day)\n",
    "\n",
    "    # Make date subfolder the current working directory \n",
    "    os.chdir(cwd+'/figures'+'/'+cur_day)\n",
    "\n",
    "    # Save in supplemental folder ?\n",
    "    if supplemental:\n",
    "        if os.path.exists(cwd+'/figures'+'/'+cur_day+'/'+'Supplemental') == False:\n",
    "            os.mkdir(cwd+'/figures'+'/'+cur_day+'/'+'Supplemental')\n",
    "        os.chdir(cwd+'/figures'+'/'+cur_day+'/'+'Supplemental')\n",
    "\n",
    "    with imageio.get_writer(filenameG+'.gif', mode='I') as writer:\n",
    "        for filename in filenames:\n",
    "            image = imageio.imread(filename)\n",
    "            writer.append_data(image) # add to gif \n",
    "            os.remove(filename) # delete individual \n",
    "    \n",
    "    # Get back to original folder \n",
    "    os.chdir(cwd)"
   ]
  },
  {
   "cell_type": "code",
   "execution_count": null,
   "metadata": {},
   "outputs": [],
   "source": [
    "x_end = np.linspace(2*np.pi, 4*np.pi, 100) # make look bigger \n",
    "fnamesSIN = [] # storing file names for gif\n",
    "fnamesCOS = []\n",
    "\n",
    "for xE in x_end:\n",
    "    x = np.linspace(0, xE, 100)\n",
    "\n",
    "    # make a figure (sine)\n",
    "    fig1 = plt.figure()\n",
    "    plt.plot(x, np.sin(x), lw=3)\n",
    "\n",
    "    # make a figure (cosine)\n",
    "    fig2 = plt.figure()\n",
    "    plt.plot(x, np.cos(x), lw=3)\n",
    "\n",
    "    # iteratively define filename \n",
    "    filename1 = f'{xE}SIN.png'\n",
    "    filename2 = f'{xE}COS.png'\n",
    "    fnamesSIN.append(filename1) # store file names \n",
    "    fnamesCOS.append(filename2)\n",
    "    best_save(fig1, filename1) # save \n",
    "    best_save(fig2, filename2, supplemental=True) \n",
    "\n",
    "# write figure files to a gif\n",
    "writeGif('testGif1', fnamesSIN)\n",
    "writeGif('testGif2', fnamesCOS, supplemental=True)"
   ]
  }
 ],
 "metadata": {
  "interpreter": {
   "hash": "7acdbb3aff7158c09429e6c9b96f485cecd437364040e3b3eee49ff737423024"
  },
  "kernelspec": {
   "display_name": "Python 3.8.10 64-bit ('base': conda)",
   "name": "python3"
  },
  "language_info": {
   "codemirror_mode": {
    "name": "ipython",
    "version": 3
   },
   "file_extension": ".py",
   "mimetype": "text/x-python",
   "name": "python",
   "nbconvert_exporter": "python",
   "pygments_lexer": "ipython3",
   "version": "3.8.10"
  },
  "orig_nbformat": 4
 },
 "nbformat": 4,
 "nbformat_minor": 2
}
